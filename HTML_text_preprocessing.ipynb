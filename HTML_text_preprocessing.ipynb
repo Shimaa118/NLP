{
  "nbformat": 4,
  "nbformat_minor": 0,
  "metadata": {
    "colab": {
      "provenance": []
    },
    "kernelspec": {
      "name": "python3",
      "display_name": "Python 3"
    },
    "language_info": {
      "name": "python"
    }
  },
  "cells": [
    {
      "cell_type": "code",
      "execution_count": 1,
      "metadata": {
        "colab": {
          "base_uri": "https://localhost:8080/"
        },
        "id": "Zbr4R2JYhsq6",
        "outputId": "5a38d374-854e-4c0b-a95d-5892baea4afc"
      },
      "outputs": [
        {
          "output_type": "stream",
          "name": "stdout",
          "text": [
            "Requirement already satisfied: requests in /usr/local/lib/python3.10/dist-packages (2.31.0)\n",
            "Requirement already satisfied: beautifulsoup4 in /usr/local/lib/python3.10/dist-packages (4.12.3)\n",
            "Requirement already satisfied: nltk in /usr/local/lib/python3.10/dist-packages (3.8.1)\n",
            "Requirement already satisfied: charset-normalizer<4,>=2 in /usr/local/lib/python3.10/dist-packages (from requests) (3.3.2)\n",
            "Requirement already satisfied: idna<4,>=2.5 in /usr/local/lib/python3.10/dist-packages (from requests) (3.6)\n",
            "Requirement already satisfied: urllib3<3,>=1.21.1 in /usr/local/lib/python3.10/dist-packages (from requests) (2.0.7)\n",
            "Requirement already satisfied: certifi>=2017.4.17 in /usr/local/lib/python3.10/dist-packages (from requests) (2024.2.2)\n",
            "Requirement already satisfied: soupsieve>1.2 in /usr/local/lib/python3.10/dist-packages (from beautifulsoup4) (2.5)\n",
            "Requirement already satisfied: click in /usr/local/lib/python3.10/dist-packages (from nltk) (8.1.7)\n",
            "Requirement already satisfied: joblib in /usr/local/lib/python3.10/dist-packages (from nltk) (1.3.2)\n",
            "Requirement already satisfied: regex>=2021.8.3 in /usr/local/lib/python3.10/dist-packages (from nltk) (2023.12.25)\n",
            "Requirement already satisfied: tqdm in /usr/local/lib/python3.10/dist-packages (from nltk) (4.66.2)\n"
          ]
        }
      ],
      "source": [
        "! pip install requests beautifulsoup4 nltk\n"
      ]
    },
    {
      "cell_type": "code",
      "source": [
        "!pip install nltk\n"
      ],
      "metadata": {
        "colab": {
          "base_uri": "https://localhost:8080/"
        },
        "id": "6u4jX_tbinax",
        "outputId": "78df2bb1-a5b4-4931-d851-d083cb19af02"
      },
      "execution_count": 2,
      "outputs": [
        {
          "output_type": "stream",
          "name": "stdout",
          "text": [
            "Requirement already satisfied: nltk in /usr/local/lib/python3.10/dist-packages (3.8.1)\n",
            "Requirement already satisfied: click in /usr/local/lib/python3.10/dist-packages (from nltk) (8.1.7)\n",
            "Requirement already satisfied: joblib in /usr/local/lib/python3.10/dist-packages (from nltk) (1.3.2)\n",
            "Requirement already satisfied: regex>=2021.8.3 in /usr/local/lib/python3.10/dist-packages (from nltk) (2023.12.25)\n",
            "Requirement already satisfied: tqdm in /usr/local/lib/python3.10/dist-packages (from nltk) (4.66.2)\n"
          ]
        }
      ]
    },
    {
      "cell_type": "code",
      "source": [
        "import nltk\n",
        "nltk.download('punkt')"
      ],
      "metadata": {
        "colab": {
          "base_uri": "https://localhost:8080/"
        },
        "id": "Ms-SLELFinif",
        "outputId": "be064595-0c01-43bb-9a18-113688e19d59"
      },
      "execution_count": 3,
      "outputs": [
        {
          "output_type": "stream",
          "name": "stderr",
          "text": [
            "[nltk_data] Downloading package punkt to /root/nltk_data...\n",
            "[nltk_data]   Unzipping tokenizers/punkt.zip.\n"
          ]
        },
        {
          "output_type": "execute_result",
          "data": {
            "text/plain": [
              "True"
            ]
          },
          "metadata": {},
          "execution_count": 3
        }
      ]
    },
    {
      "cell_type": "code",
      "source": [
        "nltk.download('wordnet')"
      ],
      "metadata": {
        "colab": {
          "base_uri": "https://localhost:8080/"
        },
        "id": "WTe-HhM1jC_J",
        "outputId": "068ff965-200d-4d49-b303-5ae04ba1e3bb"
      },
      "execution_count": 4,
      "outputs": [
        {
          "output_type": "stream",
          "name": "stderr",
          "text": [
            "[nltk_data] Downloading package wordnet to /root/nltk_data...\n"
          ]
        },
        {
          "output_type": "execute_result",
          "data": {
            "text/plain": [
              "True"
            ]
          },
          "metadata": {},
          "execution_count": 4
        }
      ]
    },
    {
      "cell_type": "code",
      "source": [
        "nltk.download('stopwords')"
      ],
      "metadata": {
        "colab": {
          "base_uri": "https://localhost:8080/"
        },
        "id": "SEf2pak1i7GG",
        "outputId": "02704186-bff4-4b95-da7d-e41f392d346e"
      },
      "execution_count": 5,
      "outputs": [
        {
          "output_type": "stream",
          "name": "stderr",
          "text": [
            "[nltk_data] Downloading package stopwords to /root/nltk_data...\n",
            "[nltk_data]   Unzipping corpora/stopwords.zip.\n"
          ]
        },
        {
          "output_type": "execute_result",
          "data": {
            "text/plain": [
              "True"
            ]
          },
          "metadata": {},
          "execution_count": 5
        }
      ]
    },
    {
      "cell_type": "code",
      "source": [
        "import requests\n",
        "from bs4 import BeautifulSoup\n",
        "from nltk.tokenize import word_tokenize\n",
        "from nltk.corpus import stopwords\n",
        "from nltk.stem import WordNetLemmatizer\n",
        "import re\n",
        "\n",
        "# Function to fetch HTML from a given URL\n",
        "def get_html_from_url(url):\n",
        "    response = requests.get(url)\n",
        "    return response.text\n",
        "\n",
        "# Function to extract text from HTML using BeautifulSoup\n",
        "def extract_text_from_html(html):\n",
        "    soup = BeautifulSoup(html, 'html.parser')\n",
        "    text = soup.get_text()\n",
        "    return text\n",
        "\n",
        "def preprocess_text(text):\n",
        "    text = text.lower()\n",
        "\n",
        "    text = re.sub(r'http[s]?://(?:[a-zA-Z]|[0-9]|[$-_@.&+]|[!*\\\\(\\\\),]|(?:%[0-9a-fA-F][0-9a-fA-F]))+', '', text)\n",
        "    # text = re.sub(r'[^\\w\\s]', '', text)\n",
        "\n",
        "    text = re.sub(r'[^a-zA-Z\\s]', '', text)\n",
        "\n",
        "    words = word_tokenize(text)\n",
        "    c =0\n",
        "    for i in words:\n",
        "      if  len(i)<3:\n",
        "        c+=1\n",
        "    print (c)\n",
        "\n",
        "    stop_words = set(stopwords.words('english'))\n",
        "    words = [word for word in words if word not in stop_words]\n",
        "\n",
        "    lemmatizer = WordNetLemmatizer()\n",
        "    words = [lemmatizer.lemmatize(word) for word in words]\n",
        "\n",
        "    words = [word for word in words if len(word) > 1]\n",
        "\n",
        "    return words\n",
        "\n",
        "# Function to get unique words\n",
        "def get_unique_words(words):\n",
        "    return list(set(words))\n"
      ],
      "metadata": {
        "id": "MhlpkhBVhumq"
      },
      "execution_count": 24,
      "outputs": []
    },
    {
      "cell_type": "code",
      "source": [
        "url = 'https://en.wikipedia.org/wiki/Natural_language_processing'\n",
        "html = get_html_from_url(url)\n",
        "text = extract_text_from_html(html)\n",
        "preprocessed_words = preprocess_text(text)\n",
        "unique_words = get_unique_words(preprocessed_words)"
      ],
      "metadata": {
        "id": "Jo8vM1rAhuo1",
        "colab": {
          "base_uri": "https://localhost:8080/"
        },
        "outputId": "50dacd5c-b35c-43f4-f172-d42fdffed0bd"
      },
      "execution_count": 25,
      "outputs": [
        {
          "output_type": "stream",
          "name": "stdout",
          "text": [
            "1179\n"
          ]
        }
      ]
    },
    {
      "cell_type": "code",
      "source": [
        "# Print results\n",
        "print(\"Original Text:\")\n",
        "print(text[-500:])   #last 500 word\n"
      ],
      "metadata": {
        "colab": {
          "base_uri": "https://localhost:8080/"
        },
        "id": "YKPOWJPdhuqz",
        "outputId": "1f00f8b4-1893-4115-fae0-f07481f36b0e"
      },
      "execution_count": 26,
      "outputs": [
        {
          "output_type": "stream",
          "name": "stdout",
          "text": [
            "Original Text:\n",
            "t edited on 23 March 2024, at 15:23 (UTC).\n",
            "Text is available under the Creative Commons Attribution-ShareAlike License 4.0;\n",
            "additional terms may apply. By using this site, you agree to the Terms of Use and Privacy Policy. Wikipedia® is a registered trademark of the Wikimedia Foundation, Inc., a non-profit organization.\n",
            "\n",
            "\n",
            "Privacy policy\n",
            "About Wikipedia\n",
            "Disclaimers\n",
            "Contact Wikipedia\n",
            "Code of Conduct\n",
            "Developers\n",
            "Statistics\n",
            "Cookie statement\n",
            "Mobile view\n",
            "\n",
            "\n",
            "\n",
            "\n",
            "\n",
            "\n",
            "\n",
            "\n",
            "\n",
            "\n",
            "\n",
            "\n",
            "\n",
            "Toggle limited content width\n",
            "\n",
            "\n",
            "\n",
            "\n",
            "\n",
            "\n",
            "\n",
            "\n"
          ]
        }
      ]
    },
    {
      "cell_type": "code",
      "source": [
        "print(\"Preprocessed Words:\")\n",
        "print(preprocessed_words[:20])"
      ],
      "metadata": {
        "colab": {
          "base_uri": "https://localhost:8080/"
        },
        "id": "e9-lhLm0INoq",
        "outputId": "0560a18e-aa53-44d5-c2ed-3bafa03a3040"
      },
      "execution_count": 27,
      "outputs": [
        {
          "output_type": "stream",
          "name": "stdout",
          "text": [
            "Preprocessed Words:\n",
            "['natural', 'language', 'processing', 'wikipedia', 'jump', 'content', 'main', 'menu', 'main', 'menu', 'move', 'sidebar', 'hide', 'navigation', 'main', 'pagecontentscurrent', 'eventsrandom', 'articleabout', 'wikipediacontact', 'usdonate']\n"
          ]
        }
      ]
    },
    {
      "cell_type": "code",
      "source": [
        "print(\"Unique Words:\")\n",
        "print(unique_words)"
      ],
      "metadata": {
        "colab": {
          "base_uri": "https://localhost:8080/"
        },
        "id": "AIm9ugRBhu1E",
        "outputId": "cbe5c7c9-22c4-4dca-b0a7-aac35e83ac80"
      },
      "execution_count": 28,
      "outputs": [
        {
          "output_type": "stream",
          "name": "stdout",
          "text": [
            "Unique Words:\n",
            "['december', 'william', 'rarely', 'trigram', 'concerned', 'nonwestern', 'wikipedia', 'joshi', 'base', 'aaron', 'site', 'acl', 'pdfselfpublished', 'length', 'doiinterspeech', 'rhetorical', 'trademark', 'phenomenon', 'care', 'analog', 'authority', 'extraction', 'automaton', 'would', 'technically', 'mean', 'guida', 'james', 'normalized', 'italian', 'pascal', 'devising', 'bag', 'paolo', 'hollandhall', 'modelling', 'categorize', 'unsupervised', 'nature', 'existing', 'also', 'dbpedia', 'prabhakar', 'endtoend', 'demonstrated', 'infamous', 'brno', 'scheme', 'management', 'handbook', 'create', 'centering', 'deal', 'necessary', 'physically', 'bates', 'yesno', 'distributional', 'peter', 'semantic', 'vocabulary', 'step', 'caused', 'doi', 'information', 'business', 'realworld', 'note', 'probabilistic', 'token', 'posse', 'document', 'marketed', 'adi', 'steven', 'rule', 'fasttext', 'zhu', 'diabetes', 'free', 'procedure', 'workshop', 'jmir', 'beard', 'harvnb', 'asian', 'nonprofit', 'see', 'recurrent', 'university', 'namesrefer', 'symbol', 'alphabet', 'emnlp', 'text', 'multidocument', 'metaphorically', 'referred', 'john', 'problem', 'entered', 'abstract', 'computerassisted', 'cognitive', 'fit', 'sens', 'yingli', 'assistant', 'eacl', 'usdonate', 'public', 'image', 'andrew', 'maintained', 'largely', 'republic', 'describes', 'creative', 'hidden', 'readable', 'part', 'capital', 'area', 'usa', 'statistic', 'portalrecent', 'system', 'titled', 'koskenniemi', 'resourcesdatasets', 'background', 'stumped', 'frequently', 'jump', 'comprehension', 'rising', 'generic', 'strong', 'volume', 'gioconda', 'technique', 'signal', 'goldberg', 'karpathy', 'precision', 'breaking', 'phrasebook', 'socher', 'verb', 'macquarie', 'joseph', 'ewy', 'bob', 'citerefbuchanan', 'possible', 'mainstream', 'dispute', 'showing', 'september', 'nlp', 'lithiumion', 'support', 'elementary', 'hand', 'vit', 'europe', 'state', 'previous', 'natural', 'hardly', 'function', 'page', 'stateoftheart', 'code', 'broken', 'eugene', 'coarticulation', 'gradual', 'human', 'provide', 'scientist', 'nkc', 'transferbased', 'formal', 'external', 'proper', 'automatic', 'hoffman', 'level', 'informatics', 'coupled', 'grounded', 'accent', 'unannotated', 'chinese', 'acm', 'widespread', 'metaphor', 'road', 'interest', 'apply', 'academy', 'lowresource', 'karafit', 'unit', 'mikolov', 'gain', 'equivalent', 'onformal', 'created', 'concept', 'reasoning', 'kurdi', 'allocation', 'costly', 'cookie', 'retrieval', 'oreilly', 'weinstein', 'overperformed', 'limit', 'biomedical', 'structure', 'neuroscience', 'typical', 'heritage', 'qian', 'tomorrow', 'correction', 'vidya', 'expected', 'room', 'lccn', 'continuous', 'winograd', 'location', 'sort', 'must', 'including', 'nonannotated', 'class', 'anaphora', 'frac', 'doisy', 'research', 'financial', 'effectively', 'available', 'contrast', 'cognitionedit', 'texttospeech', 'database', 'explicitly', 'combining', 'combination', 'frame', 'dictionary', 'modeling', 'vincent', 'insight', 'chatelaine', 'try', 'opinion', 'extension', 'field', 'called', 'important', 'aid', 'manning', 'uby', 'eventually', 'failed', 'sam', 'parry', 'successive', 'progress', 'outline', 'content', 'annotated', 'door', 'large', 'pronoun', 'transformation', 'uptake', 'statement', 'actual', 'wordseye', 'et', 'earliest', 'discrete', 'naturallanguageprocessing', 'tokenization', 'began', 'producing', 'become', 'efficient', 'presented', 'doiproc', 'bibcodepnasb', 'pdf', 'argumentation', 'train', 'additional', 'generate', 'behaviour', 'duan', 'acquiring', 'life', 'chomskyan', 'creswell', 'apertium', 'mids', 'simulation', 'russian', 'assign', 'met', 'comparison', 'discouraged', 'doijair', 'psychology', 'generator', 'mt', 'perspective', 'entire', 'prevalence', 'underpinnings', 'fundamental', 'alsoedit', 'element', 'answering', 'attributionsharealike', 'shazeer', 'graphic', 'dutch', 'acquire', 'wwwyoutubecom', 'already', 'hughescastleberry', 'source', 'noam', 'ignore', 'organized', 'resource', 'observational', 'involving', 'journal', 'trivial', 'scientific', 'addressed', 'argument', 'revolution', 'mark', 'stimulus', 'incredible', 'skepticism', 'ie', 'parliament', 'people', 'helsinki', 'tom', 'huang', 'intractability', 'theory', 'lemmatisation', 'decision', 'spacy', 'policy', 'simplification', 'convenience', 'broadly', 'depends', 'statistical', 'virtual', 'articulated', 'user', 'medicine', 'occurred', 'omitted', 'bird', 'literary', 'expectation', 'require', 'digital', 'pam', 'defining', 'usually', 'description', 'antonia', 'engineering', 'implicit', 'charniak', 'margie', 'heyday', 'verge', 'properly', 'allows', 'babelnet', 'interdisciplinary', 'lecture', 'reveals', 'growth', 'propbank', 'containing', 'sixty', 'writer', 'basic', 'lemmatization', 'symbolic', 'psychotherapist', 'thousand', 'vte', 'organize', 'relevant', 'patent', 'arjun', 'experience', 'feature', 'partly', 'sensitive', 'glove', 'european', 'al', 'dan', 'useful', 'intended', 'almost', 'continued', 'time', 'prodrop', 'still', 'talespin', 'ssedit', 'stream', 'might', 'one', 'markov', 'accurately', 'particular', 'rd', 'inc', 'raw', 'contributionstalk', 'formalizing', 'scene', 'treebank', 'friston', 'artificial', 'quoc', 'machinelearning', 'jabberwacky', 'transaction', 'measure', 'regular', 'complex', 'reduced', 'leading', 'personal', 'false', 'health', 'longstanding', 'computerunderstandable', 'mcclelland', 'visually', 'language', 'ifthen', 'match', 'ai', 'contextfree', 'multilayer', 'drt', 'propositional', 'bridging', 'offer', 'twolevel', 'impactful', 'capitalized', 'colloquially', 'cambridge', 'subject', 'cultural', 'rogerian', 'current', 'acquisition', 'explanation', 'displaystyle', 'th', 'considered', 'harv', 'humanlanguage', 'emulate', 'output', 'yi', 'wikimedia', 'relational', 'former', 'space', 'rejected', 'bagofwords', 'karl', 'recognitionhidden', 'medium', 'identify', 'portuguese', 'equally', 'identified', 'lippi', 'readingedit', 'pf', 'solving', 'greatly', 'notation', 'relationship', 'bow', 'springerverlag', 'stochastic', 'indian', 'claudia', 'typically', 'linwood', 'layer', 'developed', 'action', 'single', 'transforming', 'international', 'increasing', 'anymore', 'classifying', 'convert', 'fairly', 'summarization', 'nontechnical', 'healthcare', 'department', 'tian', 'georgetown', 'world', 'onomazein', 'lawyer', 'pachinko', 'electronic', 'mental', 'handcoding', 'xu', 'zero', 'ngram', 'plan', 'johnson', 'group', 'parallel', 'sometimes', 'abelson', 'google', 'grammatical', 'conversion', 'multiagent', 'annotation', 'conclusion', 'similarity', 'disputesaccuracy', 'answer', 'hall', 'scope', 'truefalse', 'library', 'dictionarycom', 'limitation', 'fact', 'clinical', 'popularity', 'devoted', 'sproat', 'right', 'perhaps', 'objective', 'theoretician', 'determine', 'distant', 'original', 'mathematical', 'tagging', 'greek', 'wwwconllorg', 'enough', 'marking', 'tie', 'announced', 'puzzle', 'closer', 'rafal', 'humanlike', 'courville', 'united', 'ended', 'toggle', 'late', 'thesis', 'set', 'ending', 'ernock', 'proposed', 'great', 'accuracy', 'klein', 'development', 'kumaran', 'sanjak', 'intelligent', 'historyedit', 'often', 'case', 'error', 'spell', 'previously', 'extrapolate', 'rk', 'probable', 'energy', 'recognition', 'primer', 'end', 'assistive', 'david', 'primary', 'dasgupta', 'parse', 'czech', 'seem', 'turkish', 'represents', 'anthropology', 'affect', 'yungui', 'disclaimer', 'cham', 'wellformed', 'labelling', 'august', 'larger', 'explainability', 'simple', 'politics', 'determining', 'result', 'series', 'le', 'involve', 'nirmal', 'response', 'menu', 'build', 'rulebased', 'mit', 'southeast', 'apparent', 'processingedit', 'cruz', 'two', 'readeditview', 'sezgin', 'translation', 'examplebased', 'stress', 'study', 'stanford', 'shortened', 'using', 'present', 'nlg', 'government', 'classify', 'teacher', 'provided', 'powerful', 'tutorial', 'cynthia', 'picture', 'span', 'fiction', 'studycomputational', 'accidentally', 'commercial', 'par', 'periodical', 'chatbot', 'house', 'japanese', 'berlin', 'branch', 'say', 'top', 'made', 'query', 'observed', 'blind', 'project', 'place', 'analyst', 'focus', 'included', 'handannotated', 'presentedit', 'completely', 'separated', 'basque', 'handwritten', 'imply', 'hallucination', 'robertson', 'wordnet', 'chucai', 'hdl', 'whereas', 'seeking', 'became', 'open', 'search', 'winter', 'view', 'working', 'old', 'seek', 'qualm', 'hard', 'vinyals', 'simply', 'pcfg', 'raghavan', 'decomposition', 'extremely', 'tree', 'transformer', 'yoav', 'others', 'insufficient', 'verbal', 'openais', 'springer', 'fluid', 'compositional', 'chan', 'team', 'neuroscientist', 'newspaper', 'wikidataarticles', 'navigation', 'section', 'direction', 'ibm', 'nlppowered', 'turing', 'wsd', 'via', 'closing', 'quickly', 'calculus', 'learn', 'block', 'front', 'edition', 'datasets', 'married', 'key', 'line', 'named', 'application', 'increasingly', 'featuring', 'low', 'trend', 'rrg', 'however', 'similar', 'dependency', 'increase', 'embedding', 'brain', 'resolution', 'segmentation', 'done', 'guessing', 'following', 'understand', 'day', 'wwwaclweborg', 'specified', 'lakoff', 'word', 'common', 'role', 'advantage', 'operationalizable', 'record', 'terry', 'empirical', 'intent', 'searles', 'articletalk', 'naturallanguage', 'shallow', 'wu', 'converse', 'presence', 'prentice', 'successful', 'eric', 'socalled', 'pagecontentscurrent', 'dharshan', 'loper', 'sequencetosequence', 'pursued', 'since', 'even', 'category', 'collection', 'mumbai', 'able', 'rare', 'understanding', 'entry', 'citeseerx', 'hope', 'machine', 'maint', 'latent', 'science', 'strauss', 'distinguish', 'existence', 'assessment', 'goal', 'capitalizes', 'unlike', 'termed', 'linguistic', 'french', 'corner', 'registered', 'spanish', 'official', 'bandwidth', 'evolved', 'halfconstructed', 'steady', 'schtze', 'november', 'conduct', 'twenty', 'number', 'method', 'variety', 'subdivided', 'serve', 'multilingual', 'logic', 'take', 'identifiersarticles', 'daniel', 'pmm', 'ignored', 'issue', 'turk', 'fulfill', 'pearson', 'intelligence', 'subsidiary', 'corpus', 'based', 'introduction', 'induction', 'participant', 'select', 'found', 'nutshell', 'underlies', 'yanji', 'carbonell', 'plot', 'behavior', 'character', 'inquiry', 'historical', 'book', 'christian', 'bigram', 'welldefined', 'medical', 'florez', 'pageget', 'algorithm', 'entailment', 'wordvec', 'hill', 'size', 'kishorjit', 'doipnas', 'edited', 'gpt', 'robinson', 'eventsrandom', 'siggraph', 'piece', 'alan', 'develop', 'nlpstanfordedu', 'alexander', 'sense', 'ambiguous', 'mike', 'accordance', 'sits', 'exploring', 'scid', 'optical', 'camerabased', 'reducing', 'flight', 'elaboration', 'manjot', 'bibcodearxivv', 'christopher', 'formula', 'felix', 'decade', 'individual', 'extract', 'po', 'enabling', 'produced', 'rmm', 'hinrich', 'negation', 'cullingford', 'yield', 'closed', 'target', 'potential', 'analysisedit', 'direct', 'interpretability', 'editcommunity', 'inaccessible', 'advance', 'solution', 'difficult', 'year', 'three', 'patient', 'nativelanguage', 'width', 'linguisticsspeech', 'fashion', 'html', 'test', 'mauri', 'ieee', 'calling', 'gill', 'sentence', 'limited', 'interface', 'yonghui', 'non', 'universal', 'namedentity', 'vol', 'directionsedit', 'mystery', 'effect', 'methodology', 'map', 'israel', 'transform', 'responding', 'actually', 'entirely', 'processing', 'closedworld', 'simon', 'federation', 'morphological', 'obsolete', 'root', 'machinery', 'aicomplete', 'boundary', 'topic', 'primarily', 'explicit', 'identifier', 'rodrguez', 'ian', 'meehan', 'segment', 'neural', 'memory', 'control', 'ng', 'choe', 'structurecentering', 'luisa', 'conceptualization', 'idea', 'importance', 'errorscs', 'realized', 'orthography', 'turn', 'urldownload', 'approachedit', 'item', 'ju', 'cognition', 'work', 'somewhat', 'formalism', 'filespecial', 'sid', 'association', 'ny', 'trained', 'elsewhere', 'richard', 'division', 'conducted', 'predicate', 'rmmtokennpmmtokenntimes', 'new', 'significant', 'ground', 'multilinguality', 'indonesiaisizuluslenskaitalianolatvieulietuvipicardpiemontispolskiportugusromnruna', 'translational', 'viewer', 'find', 'shrdlu', 'pause', 'experiment', 'revived', 'inaccurate', 'close', 'jawbone', 'list', 'wwwubucom', 'identificationand', 'reading', 'towards', 'amr', 'articleabout', 'ewan', 'networksedit', 'janvin', 'sue', 'rubric', 'programming', 'paradigm', 'beyond', 'certain', 'policeman', 'continues', 'computing', 'consistently', 'marked', 'wilensky', 'bert', 'fully', 'remain', 'suomitrketing', 'various', 'murder', 'contained', 'subtask', 'coling', 'intro', 'conll', 'difficulty', 'manipulate', 'pipeline', 'ontology', 'dalle', 'historically', 'alyea', 'philosophy', 'trajectory', 'question', 'pathological', 'processinggeneral', 'issn', 'production', 'swedish', 'tenyearlong', 'purpose', 'interspeech', 'given', 'matrix', 'review', 'agree', 'iddpmmtokenntimes', 'retrieved', 'communication', 'due', 'meitei', 'term', 'operationalization', 'creation', 'collocation', 'includes', 'istewiley', 'paper', 'controlled', 'zakaria', 'charge', 'nlpthis', 'produce', 'deep', 'japan', 'success', 'resnik', 'jurafsky', 'lack', 'builes', 'classification', 'without', 'yang', 'compoundterm', 'automated', 'sequence', 'account', 'pagespermanent', 'main', 'misspelled', 'mobile', 'postprocessing', 'report', 'refer', 'emre', 'thing', 'general', 'subjective', 'protect', 'canada', 'associated', 'rather', 'compound', 'june', 'slower', 'framenet', 'eg', 'supervised', 'discourse', 'capitalization', 'related', 'enables', 'developer', 'afrikaansazrbaycancabnlmg', 'interactive', 'finding', 'analyzed', 'thesaurus', 'lemma', 'conceptual', 'true', 'lesk', 'web', 'extracted', 'researched', 'mind', 'include', 'either', 'next', 'competition', 'texttoscene', 'person', 'inflected', 'philip', 'manipulating', 'kariampuzha', 'mohamed', 'mairalusn', 'capable', 'analyze', 'art', 'semantics', 'referring', 'psycholinguistics', 'london', 'subtasks', 'cscl', 'framework', 'rte', 'crevier', 'editor', 'constituentcontext', 'us', 'impaired', 'chapter', 'slovenian', 'vtenatural', 'behind', 'erroneous', 'spoken', 'technology', 'openworld', 'linking', 'script', 'knowledge', 'verification', 'mention', 'feat', 'archived', 'corresponding', 'llm', 'especially', 'emulates', 'voice', 'implemented', 'python', 'racter', 'embodied', 'writing', 'firstorder', 'requiring', 'interpretation', 'ducharme', 'andstandards', 'return', 'routledge', 'clip', 'recognize', 'machinegenerated', 'encourages', 'ishita', 'video', 'press', 'much', 'labeling', 'meaning', 'ability', 'christophe', 'type', 'entity', 'researcher', 'hillsdale', 'hutchins', 'raj', 'wellsummarized', 'local', 'structured', 'sound', 'college', 'heidelberg', 'longgone', 'wide', 'predictive', 'july', 'synthesis', 'mining', 'haley', 'analysis', 'dleftsum', 'marketing', 'cwa', 'far', 'dialogue', 'author', 'wwwcompnusedusg', 'entail', 'lessening', 'generally', 'exceeded', 'representing', 'learning', 'best', 'alpac', 'operational', 'use', 'specifically', 'wwwisunicefr', 'link', 'history', 'yucong', 'networkstyle', 'head', 'tool', 'quality', 'bulgarian', 'representation', 'cain', 'applying', 'etc', 'speaking', 'speed', 'annual', 'involved', 'dramatically', 'notably', 'jaleal', 'ijcai', 'within', 'texttovideo', 'computerassistedreviewing', 'counterargument', 'several', 'resolve', 'example', 'measured', 'member', 'kenna', 'wordstypically', 'approach', 'recently', 'software', 'comparable', 'download', 'confusion', 'log', 'embeddings', 'could', 'blend', 'foreign', 'mostly', 'company', 'startlingly', 'higherlevel', 'quantitative', 'bengio', 'may', 'written', 'youtube', 'chunking', 'jennifer', 'ner', 'codewikidata', 'torroni', 'contact', 'potentially', 'weakly', 'real', 'name', 'successfully', 'roger', 'british', 'property', 'elimination', 'appendix', 'alignment', 'opened', 'accurate', 'applied', 'claimed', 'pmid', 'notable', 'practical', 'martin', 'nlu', 'probability', 'show', 'sedit', 'noun', 'machinereadable', 'york', 'famous', 'closely', 'sanjeev', 'hurt', 'pp', 'rjean', 'extended', 'administration', 'informationcite', 'context', 'computer', 'oxford', 'governmental', 'stop', 'quillians', 'arxiv', 'goodfellow', 'proceeding', 'complexity', 'unfamiliar', 'construction', 'emotion', 'march', 'bosanskicataletinacymraegdanskdeutscheestiespaolesperantoeuskarafranaisgaeilgegalegohrvatskibahasa', 'wc', 'different', 'essay', 'textproofing', 'pdfprintable', 'referencesedit', 'generation', 'depended', 'principle', 'coyne', 'oriol', 'robert', 'sfn', 'training', 'capture', 'george', 'accountant', 'lee', 'metas', 'ocr', 'identical', 'jozefowicz', 'epidemiology', 'yadaw', 'jeffrey', 'buchanan', 'adjective', 'heuristic', 'solve', 'agglutinated', 'openended', 'matching', 'occur', 'coauthor', 'formalization', 'srpskisrpskohrvatski', 'elaborate', 'parsing', 'wordsense', 'necessarily', 'five', 'commonly', 'foundation', 'actr', 'simishqipsimple', 'reification', 'intermediate', 'funding', 'partofspeech', 'clt', 'notion', 'constituency', 'sidebar', 'least', 'burget', 'program', 'american', 'technical', 'innovation', 'hererelated', 'basically', 'notarget', 'turchin', 'recognizing', 'privacy', 'andrej', 'confronts', 'assertion', 'truecasing', 'power', 'languageuser', 'student', 'logged', 'letter', 'news', 'disambiguate', 'big', 'contextual', 'premise', 'nlpacl', 'although', 'expansion', 'textual', 'major', 'chunk', 'reference', 'factual', 'morphology', 'portal', 'surprisingly', 'opening', 'concordancer', 'inflectional', 'hide', 'isbn', 'battery', 'contribute', 'grouped', 'amount', 'likewise', 'terminology', 'license', 'explained', 'addition', 'write', 'task', 'moore', 'union', 'phd', 'solved', 'lehnert', 'seen', 'connected', 'basis', 'sentencesedit', 'indexing', 'doitacla', 'online', 'flesh', 'lampinen', 'four', 'gyansetu', 'giving', 'changesupload', 'capitalize', 'morpheme', 'help', 'descriptionshort', 'future', 'jan', 'texttoimage', 'stemming', 'opposite', 'announces', 'helplearn', 'make', 'disambiguation', 'semisupervised', 'yoshua', 'second', 'cpu', 'many', 'starting', 'advanced', 'pmc', 'data', 'thus', 'linkpage', 'stephanie', 'replaced', 'age', 'building', 'venturebeat', 'checker', 'lookup', 'seqseq', 'version', 'small', 'specific', 'computational', 'applicationsedit', 'though', 'mathematics', 'ignoredcs', 'inferior', 'manipuri', 'grammar', 'file', 'printexport', 'networkbased', 'centre', 'documentterm', 'civilization', 'toolkit', 'hpsg', 'among', 'theoretical', 'disease', 'graph', 'syntactic', 'last', 'led', 'organization', 'reviewing', 'phonologyorthography', 'luk', 'edward', 'receive', 'object', 'process', 'subsection', 'internet', 'table', 'investigation', 'semanticsfree', 'hungarian', 'corporatypes', 'punctuation', 'robust', 'english', 'citerefcrevier', 'nonsensical', 'perceptron', 'identifying', 'identification', 'ancient', 'improve', 'aspect', 'revealed', 'wikipediacontact', 'bank', 'khudanpur', 'coreference', 'enormous', 'multimodal', 'schank', 'math', 'expression', 'focused', 'model', 'describing', 'refers', 'used', 'derived', 'usage', 'encyclopedia', 'weizenbaum', 'cluster', 'tasksedit', 'evaluation', 'restricted', 'ndl', 'summary', 'change', 'subfield', 'form', 'wwwsocherorg', 'removing', 'separate', 'active', 'abbreviation', 'along', 'scale', 'argumentative', 'whose', 'short', 'utc', 'wordform', 'easier', 'multiple', 'wikidatacommons', 'developmental', 'challenge', 'consider', 'need', 'like', 'detection', 'sentiment', 'inference', 'ask', 'poverty', 'dominance', 'criterion', 'south', 'german', 'cite', 'prior', 'little', 'needed', 'published', 'well', 'interaction', 'thai', 'nuance', 'network', 'america', 'programmer', 'becomes', 'qr', 'social', 'nevertheless', 'article', 'beta', 'eliza', 'fullfledged', 'alike', 'bibcodearxivj', 'functional', 'samuel', 'input', 'another', 'marco', 'kook', 'emerging', 'catalan', 'period', 'law', 'metamodel', 'edit', 'regardless', 'qu', 'automatically', 'linked', 'contains', 'flurry', 'hundred', 'danish', 'kimmo', 'translate', 'february', 'nd', 'sanlp', 'sivaji', 'systematic', 'furthermore', 'thought', 'gone', 'fragment', 'shared', 'novel', 'lexical', 'locationarticles', 'syntax', 'million', 'highly', 'first', 'assumption', 'speech', 'achieve', 'phrase', 'arabic', 'contextedit', 'platform', 'linguistics', 'transformational', 'scoring', 'drawback', 'tendency', 'commonswikiversity', 'went', 'whether', 'ucca', 'involves', 'dirichlet', 'nip', 'erlbaum', 'linksedit', 'provides', 'schuster', 'ross', 'known', 'equation', 'processingcomputational', 'logical', 'intertwined', 'desired', 'lexico', 'cause', 'printed', 'pftokennitokenntokenniiright', 'multimodality', 'pragmatic', 'inherent', 'move', 'conference', 'national', 'thennewlyinvented', 'chatterbots', 'otherwise', 'western', 'preprocessing', 'inefficiency', 'early', 'polarity', 'generative', 'relative', 'pronunciation', 'coarse', 'cloud', 'access', 'act']\n"
          ]
        }
      ]
    },
    {
      "cell_type": "code",
      "source": [
        "c=0\n",
        "for i in unique_words:\n",
        "  if  len(i)<3:\n",
        "    print(i)\n"
      ],
      "metadata": {
        "colab": {
          "base_uri": "https://localhost:8080/"
        },
        "id": "WUZpeCVWJPwQ",
        "outputId": "cd9c7a6b-22ac-4494-9bd3-7c73307f197e"
      },
      "execution_count": 29,
      "outputs": [
        {
          "output_type": "stream",
          "name": "stdout",
          "text": [
            "et\n",
            "mt\n",
            "ie\n",
            "al\n",
            "rd\n",
            "ai\n",
            "th\n",
            "yi\n",
            "pf\n",
            "xu\n",
            "rk\n",
            "le\n",
            "wu\n",
            "po\n",
            "ng\n",
            "ju\n",
            "ny\n",
            "eg\n",
            "us\n",
            "pp\n",
            "wc\n",
            "qr\n",
            "qu\n",
            "nd\n"
          ]
        }
      ]
    }
  ]
}